{
 "cells": [
  {
   "cell_type": "code",
   "execution_count": 1,
   "metadata": {},
   "outputs": [],
   "source": [
    "import pandas as pd"
   ]
  },
  {
   "cell_type": "code",
   "execution_count": 2,
   "metadata": {},
   "outputs": [],
   "source": [
    "df = pd.read_csv(\"housepricedata.csv\")"
   ]
  },
  {
   "cell_type": "code",
   "execution_count": 3,
   "metadata": {},
   "outputs": [
    {
     "data": {
      "text/html": [
       "<div>\n",
       "<style scoped>\n",
       "    .dataframe tbody tr th:only-of-type {\n",
       "        vertical-align: middle;\n",
       "    }\n",
       "\n",
       "    .dataframe tbody tr th {\n",
       "        vertical-align: top;\n",
       "    }\n",
       "\n",
       "    .dataframe thead th {\n",
       "        text-align: right;\n",
       "    }\n",
       "</style>\n",
       "<table border=\"1\" class=\"dataframe\">\n",
       "  <thead>\n",
       "    <tr style=\"text-align: right;\">\n",
       "      <th></th>\n",
       "      <th>LotArea</th>\n",
       "      <th>OverallQual</th>\n",
       "      <th>OverallCond</th>\n",
       "      <th>TotalBsmtSF</th>\n",
       "      <th>FullBath</th>\n",
       "      <th>HalfBath</th>\n",
       "      <th>BedroomAbvGr</th>\n",
       "      <th>TotRmsAbvGrd</th>\n",
       "      <th>Fireplaces</th>\n",
       "      <th>GarageArea</th>\n",
       "      <th>AboveMedianPrice</th>\n",
       "    </tr>\n",
       "  </thead>\n",
       "  <tbody>\n",
       "    <tr>\n",
       "      <th>0</th>\n",
       "      <td>8450</td>\n",
       "      <td>7</td>\n",
       "      <td>5</td>\n",
       "      <td>856</td>\n",
       "      <td>2</td>\n",
       "      <td>1</td>\n",
       "      <td>3</td>\n",
       "      <td>8</td>\n",
       "      <td>0</td>\n",
       "      <td>548</td>\n",
       "      <td>1</td>\n",
       "    </tr>\n",
       "    <tr>\n",
       "      <th>1</th>\n",
       "      <td>9600</td>\n",
       "      <td>6</td>\n",
       "      <td>8</td>\n",
       "      <td>1262</td>\n",
       "      <td>2</td>\n",
       "      <td>0</td>\n",
       "      <td>3</td>\n",
       "      <td>6</td>\n",
       "      <td>1</td>\n",
       "      <td>460</td>\n",
       "      <td>1</td>\n",
       "    </tr>\n",
       "    <tr>\n",
       "      <th>2</th>\n",
       "      <td>11250</td>\n",
       "      <td>7</td>\n",
       "      <td>5</td>\n",
       "      <td>920</td>\n",
       "      <td>2</td>\n",
       "      <td>1</td>\n",
       "      <td>3</td>\n",
       "      <td>6</td>\n",
       "      <td>1</td>\n",
       "      <td>608</td>\n",
       "      <td>1</td>\n",
       "    </tr>\n",
       "    <tr>\n",
       "      <th>3</th>\n",
       "      <td>9550</td>\n",
       "      <td>7</td>\n",
       "      <td>5</td>\n",
       "      <td>756</td>\n",
       "      <td>1</td>\n",
       "      <td>0</td>\n",
       "      <td>3</td>\n",
       "      <td>7</td>\n",
       "      <td>1</td>\n",
       "      <td>642</td>\n",
       "      <td>0</td>\n",
       "    </tr>\n",
       "    <tr>\n",
       "      <th>4</th>\n",
       "      <td>14260</td>\n",
       "      <td>8</td>\n",
       "      <td>5</td>\n",
       "      <td>1145</td>\n",
       "      <td>2</td>\n",
       "      <td>1</td>\n",
       "      <td>4</td>\n",
       "      <td>9</td>\n",
       "      <td>1</td>\n",
       "      <td>836</td>\n",
       "      <td>1</td>\n",
       "    </tr>\n",
       "    <tr>\n",
       "      <th>...</th>\n",
       "      <td>...</td>\n",
       "      <td>...</td>\n",
       "      <td>...</td>\n",
       "      <td>...</td>\n",
       "      <td>...</td>\n",
       "      <td>...</td>\n",
       "      <td>...</td>\n",
       "      <td>...</td>\n",
       "      <td>...</td>\n",
       "      <td>...</td>\n",
       "      <td>...</td>\n",
       "    </tr>\n",
       "    <tr>\n",
       "      <th>1455</th>\n",
       "      <td>7917</td>\n",
       "      <td>6</td>\n",
       "      <td>5</td>\n",
       "      <td>953</td>\n",
       "      <td>2</td>\n",
       "      <td>1</td>\n",
       "      <td>3</td>\n",
       "      <td>7</td>\n",
       "      <td>1</td>\n",
       "      <td>460</td>\n",
       "      <td>1</td>\n",
       "    </tr>\n",
       "    <tr>\n",
       "      <th>1456</th>\n",
       "      <td>13175</td>\n",
       "      <td>6</td>\n",
       "      <td>6</td>\n",
       "      <td>1542</td>\n",
       "      <td>2</td>\n",
       "      <td>0</td>\n",
       "      <td>3</td>\n",
       "      <td>7</td>\n",
       "      <td>2</td>\n",
       "      <td>500</td>\n",
       "      <td>1</td>\n",
       "    </tr>\n",
       "    <tr>\n",
       "      <th>1457</th>\n",
       "      <td>9042</td>\n",
       "      <td>7</td>\n",
       "      <td>9</td>\n",
       "      <td>1152</td>\n",
       "      <td>2</td>\n",
       "      <td>0</td>\n",
       "      <td>4</td>\n",
       "      <td>9</td>\n",
       "      <td>2</td>\n",
       "      <td>252</td>\n",
       "      <td>1</td>\n",
       "    </tr>\n",
       "    <tr>\n",
       "      <th>1458</th>\n",
       "      <td>9717</td>\n",
       "      <td>5</td>\n",
       "      <td>6</td>\n",
       "      <td>1078</td>\n",
       "      <td>1</td>\n",
       "      <td>0</td>\n",
       "      <td>2</td>\n",
       "      <td>5</td>\n",
       "      <td>0</td>\n",
       "      <td>240</td>\n",
       "      <td>0</td>\n",
       "    </tr>\n",
       "    <tr>\n",
       "      <th>1459</th>\n",
       "      <td>9937</td>\n",
       "      <td>5</td>\n",
       "      <td>6</td>\n",
       "      <td>1256</td>\n",
       "      <td>1</td>\n",
       "      <td>1</td>\n",
       "      <td>3</td>\n",
       "      <td>6</td>\n",
       "      <td>0</td>\n",
       "      <td>276</td>\n",
       "      <td>0</td>\n",
       "    </tr>\n",
       "  </tbody>\n",
       "</table>\n",
       "<p>1460 rows × 11 columns</p>\n",
       "</div>"
      ],
      "text/plain": [
       "      LotArea  OverallQual  OverallCond  TotalBsmtSF  FullBath  HalfBath  \\\n",
       "0        8450            7            5          856         2         1   \n",
       "1        9600            6            8         1262         2         0   \n",
       "2       11250            7            5          920         2         1   \n",
       "3        9550            7            5          756         1         0   \n",
       "4       14260            8            5         1145         2         1   \n",
       "...       ...          ...          ...          ...       ...       ...   \n",
       "1455     7917            6            5          953         2         1   \n",
       "1456    13175            6            6         1542         2         0   \n",
       "1457     9042            7            9         1152         2         0   \n",
       "1458     9717            5            6         1078         1         0   \n",
       "1459     9937            5            6         1256         1         1   \n",
       "\n",
       "      BedroomAbvGr  TotRmsAbvGrd  Fireplaces  GarageArea  AboveMedianPrice  \n",
       "0                3             8           0         548                 1  \n",
       "1                3             6           1         460                 1  \n",
       "2                3             6           1         608                 1  \n",
       "3                3             7           1         642                 0  \n",
       "4                4             9           1         836                 1  \n",
       "...            ...           ...         ...         ...               ...  \n",
       "1455             3             7           1         460                 1  \n",
       "1456             3             7           2         500                 1  \n",
       "1457             4             9           2         252                 1  \n",
       "1458             2             5           0         240                 0  \n",
       "1459             3             6           0         276                 0  \n",
       "\n",
       "[1460 rows x 11 columns]"
      ]
     },
     "execution_count": 3,
     "metadata": {},
     "output_type": "execute_result"
    }
   ],
   "source": [
    "df"
   ]
  },
  {
   "cell_type": "code",
   "execution_count": 4,
   "metadata": {},
   "outputs": [],
   "source": [
    "dataset = df.values"
   ]
  },
  {
   "cell_type": "code",
   "execution_count": 5,
   "metadata": {},
   "outputs": [
    {
     "data": {
      "text/plain": [
       "array([[ 8450,     7,     5, ...,     0,   548,     1],\n",
       "       [ 9600,     6,     8, ...,     1,   460,     1],\n",
       "       [11250,     7,     5, ...,     1,   608,     1],\n",
       "       ...,\n",
       "       [ 9042,     7,     9, ...,     2,   252,     1],\n",
       "       [ 9717,     5,     6, ...,     0,   240,     0],\n",
       "       [ 9937,     5,     6, ...,     0,   276,     0]])"
      ]
     },
     "execution_count": 5,
     "metadata": {},
     "output_type": "execute_result"
    }
   ],
   "source": [
    "dataset"
   ]
  },
  {
   "cell_type": "code",
   "execution_count": 6,
   "metadata": {},
   "outputs": [],
   "source": [
    "X = dataset[:,0:10]"
   ]
  },
  {
   "cell_type": "code",
   "execution_count": 7,
   "metadata": {},
   "outputs": [],
   "source": [
    "Y = dataset[:,10]"
   ]
  },
  {
   "cell_type": "code",
   "execution_count": 8,
   "metadata": {},
   "outputs": [
    {
     "data": {
      "text/plain": [
       "array([[ 8450,     7,     5, ...,     8,     0,   548],\n",
       "       [ 9600,     6,     8, ...,     6,     1,   460],\n",
       "       [11250,     7,     5, ...,     6,     1,   608],\n",
       "       ...,\n",
       "       [ 9042,     7,     9, ...,     9,     2,   252],\n",
       "       [ 9717,     5,     6, ...,     5,     0,   240],\n",
       "       [ 9937,     5,     6, ...,     6,     0,   276]])"
      ]
     },
     "execution_count": 8,
     "metadata": {},
     "output_type": "execute_result"
    }
   ],
   "source": [
    "X"
   ]
  },
  {
   "cell_type": "code",
   "execution_count": 9,
   "metadata": {},
   "outputs": [
    {
     "data": {
      "text/plain": [
       "array([1, 1, 1, ..., 1, 0, 0])"
      ]
     },
     "execution_count": 9,
     "metadata": {},
     "output_type": "execute_result"
    }
   ],
   "source": [
    "Y"
   ]
  },
  {
   "cell_type": "code",
   "execution_count": 10,
   "metadata": {},
   "outputs": [],
   "source": [
    "from sklearn import preprocessing"
   ]
  },
  {
   "cell_type": "code",
   "execution_count": 11,
   "metadata": {},
   "outputs": [],
   "source": [
    "min_max_scaler = preprocessing.MinMaxScaler()"
   ]
  },
  {
   "cell_type": "code",
   "execution_count": 12,
   "metadata": {},
   "outputs": [],
   "source": [
    "X_scale = min_max_scaler.fit_transform(X)"
   ]
  },
  {
   "cell_type": "code",
   "execution_count": 13,
   "metadata": {},
   "outputs": [
    {
     "data": {
      "text/plain": [
       "array([[0.0334198 , 0.66666667, 0.5       , ..., 0.5       , 0.        ,\n",
       "        0.3864598 ],\n",
       "       [0.03879502, 0.55555556, 0.875     , ..., 0.33333333, 0.33333333,\n",
       "        0.32440056],\n",
       "       [0.04650728, 0.66666667, 0.5       , ..., 0.33333333, 0.33333333,\n",
       "        0.42877292],\n",
       "       ...,\n",
       "       [0.03618687, 0.66666667, 1.        , ..., 0.58333333, 0.66666667,\n",
       "        0.17771509],\n",
       "       [0.03934189, 0.44444444, 0.625     , ..., 0.25      , 0.        ,\n",
       "        0.16925247],\n",
       "       [0.04037019, 0.44444444, 0.625     , ..., 0.33333333, 0.        ,\n",
       "        0.19464034]])"
      ]
     },
     "execution_count": 13,
     "metadata": {},
     "output_type": "execute_result"
    }
   ],
   "source": [
    "X_scale"
   ]
  },
  {
   "cell_type": "code",
   "execution_count": 14,
   "metadata": {},
   "outputs": [],
   "source": [
    "from sklearn.model_selection import train_test_split"
   ]
  },
  {
   "cell_type": "code",
   "execution_count": 15,
   "metadata": {},
   "outputs": [],
   "source": [
    "X_train, X_val_and_test, Y_train, Y_val_and_test = train_test_split(X_scale, Y, test_size=0.3)"
   ]
  },
  {
   "cell_type": "code",
   "execution_count": 16,
   "metadata": {},
   "outputs": [],
   "source": [
    "X_val, X_test, Y_val, Y_test = train_test_split(X_val_and_test, Y_val_and_test, test_size=0.5)"
   ]
  },
  {
   "cell_type": "code",
   "execution_count": 17,
   "metadata": {},
   "outputs": [
    {
     "name": "stdout",
     "output_type": "stream",
     "text": [
      "(1022, 10) (219, 10) (219, 10) (1022,) (219,) (219,)\n"
     ]
    }
   ],
   "source": [
    "print(X_train.shape, X_val.shape, X_test.shape, Y_train.shape, Y_val.shape, Y_test.shape)"
   ]
  },
  {
   "cell_type": "code",
   "execution_count": 18,
   "metadata": {},
   "outputs": [
    {
     "name": "stderr",
     "output_type": "stream",
     "text": [
      "Using TensorFlow backend.\n"
     ]
    }
   ],
   "source": [
    "from keras.models import Sequential\n",
    "from keras.layers import Dense"
   ]
  },
  {
   "cell_type": "code",
   "execution_count": 19,
   "metadata": {},
   "outputs": [],
   "source": [
    "model = Sequential([\n",
    "    Dense(32, activation=\"relu\", input_shape=(10,)),\n",
    "    Dense(32, activation=\"relu\"),\n",
    "    Dense(1, activation=\"sigmoid\"),\n",
    "])"
   ]
  },
  {
   "cell_type": "code",
   "execution_count": 20,
   "metadata": {},
   "outputs": [],
   "source": [
    "model.compile(optimizer=\"sgd\",\n",
    "              loss=\"binary_crossentropy\",\n",
    "              metrics=[\"accuracy\"])"
   ]
  },
  {
   "cell_type": "code",
   "execution_count": 21,
   "metadata": {},
   "outputs": [
    {
     "name": "stdout",
     "output_type": "stream",
     "text": [
      "Train on 1022 samples, validate on 219 samples\n",
      "Epoch 1/100\n",
      "1022/1022 [==============================] - 1s 594us/step - loss: 0.6878 - accuracy: 0.5196 - val_loss: 0.6860 - val_accuracy: 0.4749\n",
      "Epoch 2/100\n",
      "1022/1022 [==============================] - 0s 71us/step - loss: 0.6832 - accuracy: 0.5744 - val_loss: 0.6815 - val_accuracy: 0.5845\n",
      "Epoch 3/100\n",
      "1022/1022 [==============================] - 0s 71us/step - loss: 0.6800 - accuracy: 0.6879 - val_loss: 0.6781 - val_accuracy: 0.7123\n",
      "Epoch 4/100\n",
      "1022/1022 [==============================] - 0s 83us/step - loss: 0.6774 - accuracy: 0.7417 - val_loss: 0.6751 - val_accuracy: 0.7580\n",
      "Epoch 5/100\n",
      "1022/1022 [==============================] - 0s 75us/step - loss: 0.6748 - accuracy: 0.7661 - val_loss: 0.6721 - val_accuracy: 0.7900\n",
      "Epoch 6/100\n",
      "1022/1022 [==============================] - 0s 75us/step - loss: 0.6722 - accuracy: 0.7798 - val_loss: 0.6693 - val_accuracy: 0.8311\n",
      "Epoch 7/100\n",
      "1022/1022 [==============================] - 0s 75us/step - loss: 0.6697 - accuracy: 0.8121 - val_loss: 0.6664 - val_accuracy: 0.8539\n",
      "Epoch 8/100\n",
      "1022/1022 [==============================] - 0s 74us/step - loss: 0.6671 - accuracy: 0.8278 - val_loss: 0.6634 - val_accuracy: 0.8539\n",
      "Epoch 9/100\n",
      "1022/1022 [==============================] - 0s 72us/step - loss: 0.6645 - accuracy: 0.8209 - val_loss: 0.6603 - val_accuracy: 0.8676\n",
      "Epoch 10/100\n",
      "1022/1022 [==============================] - 0s 74us/step - loss: 0.6618 - accuracy: 0.8405 - val_loss: 0.6572 - val_accuracy: 0.8813\n",
      "Epoch 11/100\n",
      "1022/1022 [==============================] - 0s 71us/step - loss: 0.6588 - accuracy: 0.8493 - val_loss: 0.6539 - val_accuracy: 0.8950\n",
      "Epoch 12/100\n",
      "1022/1022 [==============================] - 0s 72us/step - loss: 0.6559 - accuracy: 0.8464 - val_loss: 0.6505 - val_accuracy: 0.8995\n",
      "Epoch 13/100\n",
      "1022/1022 [==============================] - 0s 77us/step - loss: 0.6528 - accuracy: 0.8513 - val_loss: 0.6471 - val_accuracy: 0.8950\n",
      "Epoch 14/100\n",
      "1022/1022 [==============================] - 0s 71us/step - loss: 0.6495 - accuracy: 0.8532 - val_loss: 0.6434 - val_accuracy: 0.8995\n",
      "Epoch 15/100\n",
      "1022/1022 [==============================] - 0s 78us/step - loss: 0.6460 - accuracy: 0.8552 - val_loss: 0.6394 - val_accuracy: 0.8950\n",
      "Epoch 16/100\n",
      "1022/1022 [==============================] - 0s 77us/step - loss: 0.6424 - accuracy: 0.8571 - val_loss: 0.6353 - val_accuracy: 0.8950\n",
      "Epoch 17/100\n",
      "1022/1022 [==============================] - 0s 78us/step - loss: 0.6385 - accuracy: 0.8601 - val_loss: 0.6311 - val_accuracy: 0.8950\n",
      "Epoch 18/100\n",
      "1022/1022 [==============================] - 0s 78us/step - loss: 0.6343 - accuracy: 0.8571 - val_loss: 0.6262 - val_accuracy: 0.8813\n",
      "Epoch 19/100\n",
      "1022/1022 [==============================] - 0s 75us/step - loss: 0.6299 - accuracy: 0.8542 - val_loss: 0.6215 - val_accuracy: 0.8813\n",
      "Epoch 20/100\n",
      "1022/1022 [==============================] - 0s 77us/step - loss: 0.6253 - accuracy: 0.8591 - val_loss: 0.6161 - val_accuracy: 0.8813\n",
      "Epoch 21/100\n",
      "1022/1022 [==============================] - 0s 78us/step - loss: 0.6203 - accuracy: 0.8591 - val_loss: 0.6106 - val_accuracy: 0.8813\n",
      "Epoch 22/100\n",
      "1022/1022 [==============================] - 0s 80us/step - loss: 0.6149 - accuracy: 0.8542 - val_loss: 0.6048 - val_accuracy: 0.8813\n",
      "Epoch 23/100\n",
      "1022/1022 [==============================] - 0s 80us/step - loss: 0.6094 - accuracy: 0.8571 - val_loss: 0.5985 - val_accuracy: 0.8813\n",
      "Epoch 24/100\n",
      "1022/1022 [==============================] - 0s 79us/step - loss: 0.6034 - accuracy: 0.8591 - val_loss: 0.5919 - val_accuracy: 0.8813\n",
      "Epoch 25/100\n",
      "1022/1022 [==============================] - 0s 77us/step - loss: 0.5970 - accuracy: 0.8591 - val_loss: 0.5848 - val_accuracy: 0.8813\n",
      "Epoch 26/100\n",
      "1022/1022 [==============================] - 0s 72us/step - loss: 0.5903 - accuracy: 0.8571 - val_loss: 0.5776 - val_accuracy: 0.8858\n",
      "Epoch 27/100\n",
      "1022/1022 [==============================] - 0s 72us/step - loss: 0.5834 - accuracy: 0.8611 - val_loss: 0.5695 - val_accuracy: 0.8813\n",
      "Epoch 28/100\n",
      "1022/1022 [==============================] - 0s 71us/step - loss: 0.5759 - accuracy: 0.8581 - val_loss: 0.5614 - val_accuracy: 0.8813\n",
      "Epoch 29/100\n",
      "1022/1022 [==============================] - 0s 75us/step - loss: 0.5680 - accuracy: 0.8562 - val_loss: 0.5526 - val_accuracy: 0.8721\n",
      "Epoch 30/100\n",
      "1022/1022 [==============================] - 0s 69us/step - loss: 0.5602 - accuracy: 0.8591 - val_loss: 0.5437 - val_accuracy: 0.8721\n",
      "Epoch 31/100\n",
      "1022/1022 [==============================] - 0s 72us/step - loss: 0.5516 - accuracy: 0.8523 - val_loss: 0.5346 - val_accuracy: 0.8721\n",
      "Epoch 32/100\n",
      "1022/1022 [==============================] - 0s 76us/step - loss: 0.5430 - accuracy: 0.8611 - val_loss: 0.5251 - val_accuracy: 0.8767\n",
      "Epoch 33/100\n",
      "1022/1022 [==============================] - 0s 89us/step - loss: 0.5339 - accuracy: 0.8591 - val_loss: 0.5158 - val_accuracy: 0.8904\n",
      "Epoch 34/100\n",
      "1022/1022 [==============================] - 0s 92us/step - loss: 0.5249 - accuracy: 0.8620 - val_loss: 0.5060 - val_accuracy: 0.8904\n",
      "Epoch 35/100\n",
      "1022/1022 [==============================] - 0s 86us/step - loss: 0.5155 - accuracy: 0.8591 - val_loss: 0.4958 - val_accuracy: 0.8858\n",
      "Epoch 36/100\n",
      "1022/1022 [==============================] - 0s 82us/step - loss: 0.5065 - accuracy: 0.8611 - val_loss: 0.4853 - val_accuracy: 0.8767\n",
      "Epoch 37/100\n",
      "1022/1022 [==============================] - 0s 76us/step - loss: 0.4968 - accuracy: 0.8620 - val_loss: 0.4749 - val_accuracy: 0.8676\n",
      "Epoch 38/100\n",
      "1022/1022 [==============================] - 0s 76us/step - loss: 0.4875 - accuracy: 0.8630 - val_loss: 0.4650 - val_accuracy: 0.8767\n",
      "Epoch 39/100\n",
      "1022/1022 [==============================] - 0s 76us/step - loss: 0.4780 - accuracy: 0.8650 - val_loss: 0.4548 - val_accuracy: 0.8767\n",
      "Epoch 40/100\n",
      "1022/1022 [==============================] - 0s 75us/step - loss: 0.4686 - accuracy: 0.8620 - val_loss: 0.4450 - val_accuracy: 0.8767\n",
      "Epoch 41/100\n",
      "1022/1022 [==============================] - 0s 76us/step - loss: 0.4593 - accuracy: 0.8611 - val_loss: 0.4354 - val_accuracy: 0.8767\n",
      "Epoch 42/100\n",
      "1022/1022 [==============================] - 0s 74us/step - loss: 0.4504 - accuracy: 0.8630 - val_loss: 0.4260 - val_accuracy: 0.8767\n",
      "Epoch 43/100\n",
      "1022/1022 [==============================] - 0s 68us/step - loss: 0.4416 - accuracy: 0.8650 - val_loss: 0.4164 - val_accuracy: 0.8676\n",
      "Epoch 44/100\n",
      "1022/1022 [==============================] - 0s 74us/step - loss: 0.4336 - accuracy: 0.8679 - val_loss: 0.4076 - val_accuracy: 0.8721\n",
      "Epoch 45/100\n",
      "1022/1022 [==============================] - 0s 71us/step - loss: 0.4254 - accuracy: 0.8640 - val_loss: 0.3991 - val_accuracy: 0.8767\n",
      "Epoch 46/100\n",
      "1022/1022 [==============================] - 0s 65us/step - loss: 0.4175 - accuracy: 0.8611 - val_loss: 0.3910 - val_accuracy: 0.8721\n",
      "Epoch 47/100\n",
      "1022/1022 [==============================] - 0s 67us/step - loss: 0.4104 - accuracy: 0.8650 - val_loss: 0.3836 - val_accuracy: 0.8813\n",
      "Epoch 48/100\n",
      "1022/1022 [==============================] - 0s 77us/step - loss: 0.4035 - accuracy: 0.8581 - val_loss: 0.3760 - val_accuracy: 0.8721\n",
      "Epoch 49/100\n",
      "1022/1022 [==============================] - 0s 77us/step - loss: 0.3965 - accuracy: 0.8611 - val_loss: 0.3691 - val_accuracy: 0.8767\n",
      "Epoch 50/100\n",
      "1022/1022 [==============================] - 0s 75us/step - loss: 0.3901 - accuracy: 0.8630 - val_loss: 0.3628 - val_accuracy: 0.8721\n",
      "Epoch 51/100\n",
      "1022/1022 [==============================] - 0s 74us/step - loss: 0.3848 - accuracy: 0.8659 - val_loss: 0.3565 - val_accuracy: 0.8767\n",
      "Epoch 52/100\n",
      "1022/1022 [==============================] - 0s 75us/step - loss: 0.3791 - accuracy: 0.8620 - val_loss: 0.3508 - val_accuracy: 0.8767\n",
      "Epoch 53/100\n",
      "1022/1022 [==============================] - 0s 75us/step - loss: 0.3737 - accuracy: 0.8679 - val_loss: 0.3457 - val_accuracy: 0.8721\n",
      "Epoch 54/100\n",
      "1022/1022 [==============================] - 0s 75us/step - loss: 0.3691 - accuracy: 0.8630 - val_loss: 0.3405 - val_accuracy: 0.8767\n",
      "Epoch 55/100\n",
      "1022/1022 [==============================] - 0s 73us/step - loss: 0.3642 - accuracy: 0.8718 - val_loss: 0.3360 - val_accuracy: 0.8767\n",
      "Epoch 56/100\n"
     ]
    },
    {
     "name": "stdout",
     "output_type": "stream",
     "text": [
      "1022/1022 [==============================] - 0s 72us/step - loss: 0.3601 - accuracy: 0.8689 - val_loss: 0.3318 - val_accuracy: 0.8721\n",
      "Epoch 57/100\n",
      "1022/1022 [==============================] - 0s 64us/step - loss: 0.3563 - accuracy: 0.8611 - val_loss: 0.3273 - val_accuracy: 0.8813\n",
      "Epoch 58/100\n",
      "1022/1022 [==============================] - 0s 63us/step - loss: 0.3522 - accuracy: 0.8699 - val_loss: 0.3237 - val_accuracy: 0.8813\n",
      "Epoch 59/100\n",
      "1022/1022 [==============================] - 0s 66us/step - loss: 0.3488 - accuracy: 0.8669 - val_loss: 0.3202 - val_accuracy: 0.8813\n",
      "Epoch 60/100\n",
      "1022/1022 [==============================] - 0s 72us/step - loss: 0.3456 - accuracy: 0.8669 - val_loss: 0.3168 - val_accuracy: 0.8858\n",
      "Epoch 61/100\n",
      "1022/1022 [==============================] - 0s 71us/step - loss: 0.3426 - accuracy: 0.8699 - val_loss: 0.3139 - val_accuracy: 0.8858\n",
      "Epoch 62/100\n",
      "1022/1022 [==============================] - 0s 72us/step - loss: 0.3396 - accuracy: 0.8689 - val_loss: 0.3112 - val_accuracy: 0.8858\n",
      "Epoch 63/100\n",
      "1022/1022 [==============================] - 0s 72us/step - loss: 0.3370 - accuracy: 0.8689 - val_loss: 0.3081 - val_accuracy: 0.8813\n",
      "Epoch 64/100\n",
      "1022/1022 [==============================] - 0s 71us/step - loss: 0.3343 - accuracy: 0.8708 - val_loss: 0.3057 - val_accuracy: 0.8858\n",
      "Epoch 65/100\n",
      "1022/1022 [==============================] - 0s 63us/step - loss: 0.3307 - accuracy: 0.8757 - val_loss: 0.3054 - val_accuracy: 0.8676\n",
      "Epoch 66/100\n",
      "1022/1022 [==============================] - 0s 63us/step - loss: 0.3290 - accuracy: 0.8650 - val_loss: 0.3012 - val_accuracy: 0.8858\n",
      "Epoch 67/100\n",
      "1022/1022 [==============================] - 0s 61us/step - loss: 0.3274 - accuracy: 0.8708 - val_loss: 0.2992 - val_accuracy: 0.8858\n",
      "Epoch 68/100\n",
      "1022/1022 [==============================] - 0s 63us/step - loss: 0.3253 - accuracy: 0.8728 - val_loss: 0.2973 - val_accuracy: 0.8858\n",
      "Epoch 69/100\n",
      "1022/1022 [==============================] - 0s 64us/step - loss: 0.3237 - accuracy: 0.8748 - val_loss: 0.2952 - val_accuracy: 0.8858\n",
      "Epoch 70/100\n",
      "1022/1022 [==============================] - 0s 64us/step - loss: 0.3217 - accuracy: 0.8738 - val_loss: 0.2937 - val_accuracy: 0.8858\n",
      "Epoch 71/100\n",
      "1022/1022 [==============================] - 0s 64us/step - loss: 0.3203 - accuracy: 0.8748 - val_loss: 0.2921 - val_accuracy: 0.8858\n",
      "Epoch 72/100\n",
      "1022/1022 [==============================] - 0s 61us/step - loss: 0.3183 - accuracy: 0.8748 - val_loss: 0.2915 - val_accuracy: 0.8858\n",
      "Epoch 73/100\n",
      "1022/1022 [==============================] - 0s 66us/step - loss: 0.3171 - accuracy: 0.8738 - val_loss: 0.2900 - val_accuracy: 0.8858\n",
      "Epoch 74/100\n",
      "1022/1022 [==============================] - 0s 63us/step - loss: 0.3147 - accuracy: 0.8708 - val_loss: 0.2876 - val_accuracy: 0.8858\n",
      "Epoch 75/100\n",
      "1022/1022 [==============================] - 0s 64us/step - loss: 0.3137 - accuracy: 0.8748 - val_loss: 0.2868 - val_accuracy: 0.8950\n",
      "Epoch 76/100\n",
      "1022/1022 [==============================] - 0s 63us/step - loss: 0.3125 - accuracy: 0.8777 - val_loss: 0.2856 - val_accuracy: 0.8858\n",
      "Epoch 77/100\n",
      "1022/1022 [==============================] - 0s 63us/step - loss: 0.3115 - accuracy: 0.8738 - val_loss: 0.2840 - val_accuracy: 0.8904\n",
      "Epoch 78/100\n",
      "1022/1022 [==============================] - 0s 64us/step - loss: 0.3104 - accuracy: 0.8787 - val_loss: 0.2831 - val_accuracy: 0.8858\n",
      "Epoch 79/100\n",
      "1022/1022 [==============================] - 0s 63us/step - loss: 0.3086 - accuracy: 0.8748 - val_loss: 0.2816 - val_accuracy: 0.8858\n",
      "Epoch 80/100\n",
      "1022/1022 [==============================] - 0s 66us/step - loss: 0.3064 - accuracy: 0.8767 - val_loss: 0.2816 - val_accuracy: 0.8995\n",
      "Epoch 81/100\n",
      "1022/1022 [==============================] - 0s 68us/step - loss: 0.3065 - accuracy: 0.8777 - val_loss: 0.2796 - val_accuracy: 0.8904\n",
      "Epoch 82/100\n",
      "1022/1022 [==============================] - 0s 66us/step - loss: 0.3050 - accuracy: 0.8796 - val_loss: 0.2787 - val_accuracy: 0.8904\n",
      "Epoch 83/100\n",
      "1022/1022 [==============================] - 0s 61us/step - loss: 0.3045 - accuracy: 0.8757 - val_loss: 0.2785 - val_accuracy: 0.8858\n",
      "Epoch 84/100\n",
      "1022/1022 [==============================] - 0s 60us/step - loss: 0.3025 - accuracy: 0.8796 - val_loss: 0.2776 - val_accuracy: 0.8858\n",
      "Epoch 85/100\n",
      "1022/1022 [==============================] - 0s 60us/step - loss: 0.3023 - accuracy: 0.8767 - val_loss: 0.2761 - val_accuracy: 0.8904\n",
      "Epoch 86/100\n",
      "1022/1022 [==============================] - 0s 63us/step - loss: 0.3009 - accuracy: 0.8777 - val_loss: 0.2753 - val_accuracy: 0.8904\n",
      "Epoch 87/100\n",
      "1022/1022 [==============================] - 0s 62us/step - loss: 0.2997 - accuracy: 0.8796 - val_loss: 0.2744 - val_accuracy: 0.8858\n",
      "Epoch 88/100\n",
      "1022/1022 [==============================] - 0s 59us/step - loss: 0.2984 - accuracy: 0.8845 - val_loss: 0.2739 - val_accuracy: 0.8904\n",
      "Epoch 89/100\n",
      "1022/1022 [==============================] - 0s 62us/step - loss: 0.2978 - accuracy: 0.8816 - val_loss: 0.2734 - val_accuracy: 0.8904\n",
      "Epoch 90/100\n",
      "1022/1022 [==============================] - 0s 65us/step - loss: 0.2964 - accuracy: 0.8796 - val_loss: 0.2728 - val_accuracy: 0.8950\n",
      "Epoch 91/100\n",
      "1022/1022 [==============================] - 0s 60us/step - loss: 0.2964 - accuracy: 0.8796 - val_loss: 0.2718 - val_accuracy: 0.8858\n",
      "Epoch 92/100\n",
      "1022/1022 [==============================] - 0s 60us/step - loss: 0.2949 - accuracy: 0.8787 - val_loss: 0.2713 - val_accuracy: 0.8904\n",
      "Epoch 93/100\n",
      "1022/1022 [==============================] - 0s 56us/step - loss: 0.2951 - accuracy: 0.8787 - val_loss: 0.2704 - val_accuracy: 0.8904\n",
      "Epoch 94/100\n",
      "1022/1022 [==============================] - 0s 61us/step - loss: 0.2933 - accuracy: 0.8787 - val_loss: 0.2703 - val_accuracy: 0.8950\n",
      "Epoch 95/100\n",
      "1022/1022 [==============================] - 0s 75us/step - loss: 0.2922 - accuracy: 0.8806 - val_loss: 0.2694 - val_accuracy: 0.8904\n",
      "Epoch 96/100\n",
      "1022/1022 [==============================] - 0s 65us/step - loss: 0.2924 - accuracy: 0.8806 - val_loss: 0.2695 - val_accuracy: 0.8904\n",
      "Epoch 97/100\n",
      "1022/1022 [==============================] - 0s 64us/step - loss: 0.2910 - accuracy: 0.8787 - val_loss: 0.2681 - val_accuracy: 0.8904\n",
      "Epoch 98/100\n",
      "1022/1022 [==============================] - 0s 64us/step - loss: 0.2907 - accuracy: 0.8806 - val_loss: 0.2678 - val_accuracy: 0.8950\n",
      "Epoch 99/100\n",
      "1022/1022 [==============================] - 0s 61us/step - loss: 0.2901 - accuracy: 0.8836 - val_loss: 0.2669 - val_accuracy: 0.8858\n",
      "Epoch 100/100\n",
      "1022/1022 [==============================] - 0s 56us/step - loss: 0.2888 - accuracy: 0.8826 - val_loss: 0.2663 - val_accuracy: 0.8904\n"
     ]
    }
   ],
   "source": [
    "hist = model.fit(\n",
    "    X_train,\n",
    "    Y_train,\n",
    "    batch_size=32,\n",
    "    epochs=100,\n",
    "    validation_data=(X_val, Y_val),\n",
    ")"
   ]
  },
  {
   "cell_type": "code",
   "execution_count": 22,
   "metadata": {},
   "outputs": [
    {
     "name": "stdout",
     "output_type": "stream",
     "text": [
      "219/219 [==============================] - 0s 36us/step\n"
     ]
    },
    {
     "data": {
      "text/plain": [
       "0.9041095972061157"
      ]
     },
     "execution_count": 22,
     "metadata": {},
     "output_type": "execute_result"
    }
   ],
   "source": [
    "model.evaluate(X_test, Y_test)[1]"
   ]
  },
  {
   "cell_type": "code",
   "execution_count": 23,
   "metadata": {},
   "outputs": [],
   "source": [
    "import matplotlib.pyplot as plt"
   ]
  },
  {
   "cell_type": "code",
   "execution_count": 24,
   "metadata": {},
   "outputs": [
    {
     "data": {
      "image/png": "[encoded data removed]",
      "text/plain": [
       "<Figure size 432x288 with 1 Axes>"
      ]
     },
     "metadata": {
      "needs_background": "light"
     },
     "output_type": "display_data"
    }
   ],
   "source": [
    "plt.plot(hist.history[\"loss\"])\n",
    "plt.plot(hist.history[\"val_loss\"])\n",
    "plt.title(\"Model loss\")\n",
    "plt.ylabel(\"Loss\")\n",
    "plt.xlabel(\"Epoch\")\n",
    "plt.legend([\"Train\", \"Val\"], loc=\"upper right\")\n",
    "plt.show()"
   ]
  },
  {
   "cell_type": "code",
   "execution_count": 27,
   "metadata": {},
   "outputs": [
    {
     "data": {
      "image/png": "[encoded data removed]",
      "text/plain": [
       "<Figure size 432x288 with 1 Axes>"
      ]
     },
     "metadata": {
      "needs_background": "light"
     },
     "output_type": "display_data"
    }
   ],
   "source": [
    "plt.plot(hist.history[\"accuracy\"])\n",
    "plt.plot(hist.history[\"val_accuracy\"])\n",
    "plt.title(\"Model accuracy\")\n",
    "plt.ylabel(\"Accuracy\")\n",
    "plt.xlabel(\"Epoch\")\n",
    "plt.legend([\"Train\", \"Val\"], loc=\"lower right\")\n",
    "plt.show()"
   ]
  },
  {
   "cell_type": "code",
   "execution_count": 28,
   "metadata": {},
   "outputs": [
    {
     "name": "stdout",
     "output_type": "stream",
     "text": [
      "Train on 1022 samples, validate on 219 samples\n",
      "Epoch 1/100\n",
      "1022/1022 [==============================] - 3s 2ms/step - loss: 0.5531 - accuracy: 0.7133 - val_loss: 0.3354 - val_accuracy: 0.8767\n",
      "Epoch 2/100\n",
      "1022/1022 [==============================] - 1s 1ms/step - loss: 0.3884 - accuracy: 0.8337 - val_loss: 0.2990 - val_accuracy: 0.8813\n",
      "Epoch 3/100\n",
      "1022/1022 [==============================] - 1s 1ms/step - loss: 0.3542 - accuracy: 0.8581 - val_loss: 0.3393 - val_accuracy: 0.8721\n",
      "Epoch 4/100\n",
      "1022/1022 [==============================] - 1s 1ms/step - loss: 0.3076 - accuracy: 0.8611 - val_loss: 0.3248 - val_accuracy: 0.8630\n",
      "Epoch 5/100\n",
      "1022/1022 [==============================] - 1s 1ms/step - loss: 0.3224 - accuracy: 0.8513 - val_loss: 0.2791 - val_accuracy: 0.8858\n",
      "Epoch 6/100\n",
      "1022/1022 [==============================] - 2s 1ms/step - loss: 0.2893 - accuracy: 0.8630 - val_loss: 0.3026 - val_accuracy: 0.8950\n",
      "Epoch 7/100\n",
      "1022/1022 [==============================] - 1s 1ms/step - loss: 0.2636 - accuracy: 0.8885 - val_loss: 0.3033 - val_accuracy: 0.8767\n",
      "Epoch 8/100\n",
      "1022/1022 [==============================] - 1s 1ms/step - loss: 0.2691 - accuracy: 0.8787 - val_loss: 0.2485 - val_accuracy: 0.9087\n",
      "Epoch 9/100\n",
      "1022/1022 [==============================] - 1s 1ms/step - loss: 0.2409 - accuracy: 0.8982 - val_loss: 0.2455 - val_accuracy: 0.9041\n",
      "Epoch 10/100\n",
      "1022/1022 [==============================] - 1s 1ms/step - loss: 0.2171 - accuracy: 0.9061 - val_loss: 0.3375 - val_accuracy: 0.9041\n",
      "Epoch 11/100\n",
      "1022/1022 [==============================] - 1s 1ms/step - loss: 0.2317 - accuracy: 0.8992 - val_loss: 0.2547 - val_accuracy: 0.9224\n",
      "Epoch 12/100\n",
      "1022/1022 [==============================] - 1s 1ms/step - loss: 0.2208 - accuracy: 0.9012 - val_loss: 0.2717 - val_accuracy: 0.8904\n",
      "Epoch 13/100\n",
      "1022/1022 [==============================] - 1s 1ms/step - loss: 0.2895 - accuracy: 0.8708 - val_loss: 0.3405 - val_accuracy: 0.8265\n",
      "Epoch 14/100\n",
      "1022/1022 [==============================] - 1s 1ms/step - loss: 0.2629 - accuracy: 0.8855 - val_loss: 0.2898 - val_accuracy: 0.9041\n",
      "Epoch 15/100\n",
      "1022/1022 [==============================] - 2s 2ms/step - loss: 0.2335 - accuracy: 0.8943 - val_loss: 0.3061 - val_accuracy: 0.8858\n",
      "Epoch 16/100\n",
      "1022/1022 [==============================] - 1s 1ms/step - loss: 0.2015 - accuracy: 0.9090 - val_loss: 0.2773 - val_accuracy: 0.9132\n",
      "Epoch 17/100\n",
      "1022/1022 [==============================] - 1s 1ms/step - loss: 0.2081 - accuracy: 0.8992 - val_loss: 0.2871 - val_accuracy: 0.8767\n",
      "Epoch 18/100\n",
      "1022/1022 [==============================] - 1s 1ms/step - loss: 0.1964 - accuracy: 0.9149 - val_loss: 0.2590 - val_accuracy: 0.9087\n",
      "Epoch 19/100\n",
      "1022/1022 [==============================] - 2s 1ms/step - loss: 0.1909 - accuracy: 0.9002 - val_loss: 0.3956 - val_accuracy: 0.7763\n",
      "Epoch 20/100\n",
      "1022/1022 [==============================] - 2s 2ms/step - loss: 0.2302 - accuracy: 0.8894 - val_loss: 0.3125 - val_accuracy: 0.8904\n",
      "Epoch 21/100\n",
      "1022/1022 [==============================] - 2s 2ms/step - loss: 0.2055 - accuracy: 0.9159 - val_loss: 0.2947 - val_accuracy: 0.8904\n",
      "Epoch 22/100\n",
      "1022/1022 [==============================] - 2s 2ms/step - loss: 0.2015 - accuracy: 0.9061 - val_loss: 0.3083 - val_accuracy: 0.9224\n",
      "Epoch 23/100\n",
      "1022/1022 [==============================] - 2s 2ms/step - loss: 0.2192 - accuracy: 0.9002 - val_loss: 0.3373 - val_accuracy: 0.8767\n",
      "Epoch 24/100\n",
      "1022/1022 [==============================] - 2s 2ms/step - loss: 0.1987 - accuracy: 0.9080 - val_loss: 0.2919 - val_accuracy: 0.8904\n",
      "Epoch 25/100\n",
      "1022/1022 [==============================] - 2s 2ms/step - loss: 0.1858 - accuracy: 0.9100 - val_loss: 0.3313 - val_accuracy: 0.8630\n",
      "Epoch 26/100\n",
      "1022/1022 [==============================] - 2s 2ms/step - loss: 0.1861 - accuracy: 0.9070 - val_loss: 0.2694 - val_accuracy: 0.8950\n",
      "Epoch 27/100\n",
      "1022/1022 [==============================] - 2s 2ms/step - loss: 0.1865 - accuracy: 0.9139 - val_loss: 0.2830 - val_accuracy: 0.9041\n",
      "Epoch 28/100\n",
      "1022/1022 [==============================] - 2s 2ms/step - loss: 0.1938 - accuracy: 0.9022 - val_loss: 0.3121 - val_accuracy: 0.9041\n",
      "Epoch 29/100\n",
      "1022/1022 [==============================] - 2s 2ms/step - loss: 0.1727 - accuracy: 0.9188 - val_loss: 0.3179 - val_accuracy: 0.8767\n",
      "Epoch 30/100\n",
      "1022/1022 [==============================] - 2s 2ms/step - loss: 0.1952 - accuracy: 0.9110 - val_loss: 0.2757 - val_accuracy: 0.9087\n",
      "Epoch 31/100\n",
      "1022/1022 [==============================] - 2s 2ms/step - loss: 0.1841 - accuracy: 0.9159 - val_loss: 0.3556 - val_accuracy: 0.9087\n",
      "Epoch 32/100\n",
      "1022/1022 [==============================] - 2s 2ms/step - loss: 0.1789 - accuracy: 0.9256 - val_loss: 0.3194 - val_accuracy: 0.8995\n",
      "Epoch 33/100\n",
      "1022/1022 [==============================] - 2s 2ms/step - loss: 0.1973 - accuracy: 0.9110 - val_loss: 0.2847 - val_accuracy: 0.8995\n",
      "Epoch 34/100\n",
      "1022/1022 [==============================] - 2s 2ms/step - loss: 0.1837 - accuracy: 0.9129 - val_loss: 0.2989 - val_accuracy: 0.8767\n",
      "Epoch 35/100\n",
      "1022/1022 [==============================] - 2s 2ms/step - loss: 0.1813 - accuracy: 0.9227 - val_loss: 0.3151 - val_accuracy: 0.9041\n",
      "Epoch 36/100\n",
      "1022/1022 [==============================] - 2s 2ms/step - loss: 0.2090 - accuracy: 0.9051 - val_loss: 0.3170 - val_accuracy: 0.8630\n",
      "Epoch 37/100\n",
      "1022/1022 [==============================] - 2s 2ms/step - loss: 0.1912 - accuracy: 0.9188 - val_loss: 0.3002 - val_accuracy: 0.8950\n",
      "Epoch 38/100\n",
      "1022/1022 [==============================] - 1s 1ms/step - loss: 0.1720 - accuracy: 0.9217 - val_loss: 0.3062 - val_accuracy: 0.8950\n",
      "Epoch 39/100\n",
      "1022/1022 [==============================] - 1s 1ms/step - loss: 0.1642 - accuracy: 0.9237 - val_loss: 0.3205 - val_accuracy: 0.8950\n",
      "Epoch 40/100\n",
      "1022/1022 [==============================] - 1s 1ms/step - loss: 0.1866 - accuracy: 0.9110 - val_loss: 0.3494 - val_accuracy: 0.8904\n",
      "Epoch 41/100\n",
      "1022/1022 [==============================] - 1s 1ms/step - loss: 0.1716 - accuracy: 0.9295 - val_loss: 0.3340 - val_accuracy: 0.8995\n",
      "Epoch 42/100\n",
      "1022/1022 [==============================] - 1s 1ms/step - loss: 0.1730 - accuracy: 0.9159 - val_loss: 0.3023 - val_accuracy: 0.8858\n",
      "Epoch 43/100\n",
      "1022/1022 [==============================] - 1s 1ms/step - loss: 0.1743 - accuracy: 0.9295 - val_loss: 0.3440 - val_accuracy: 0.8904\n",
      "Epoch 44/100\n",
      "1022/1022 [==============================] - 2s 2ms/step - loss: 0.1670 - accuracy: 0.9178 - val_loss: 0.3336 - val_accuracy: 0.8813\n",
      "Epoch 45/100\n",
      "1022/1022 [==============================] - 2s 2ms/step - loss: 0.1607 - accuracy: 0.9227 - val_loss: 0.3750 - val_accuracy: 0.8950\n",
      "Epoch 46/100\n",
      "1022/1022 [==============================] - 1s 1ms/step - loss: 0.1595 - accuracy: 0.9305 - val_loss: 0.3589 - val_accuracy: 0.8904\n",
      "Epoch 47/100\n",
      "1022/1022 [==============================] - 1s 1ms/step - loss: 0.1533 - accuracy: 0.9335 - val_loss: 0.3485 - val_accuracy: 0.8767\n",
      "Epoch 48/100\n",
      "1022/1022 [==============================] - 1s 1ms/step - loss: 0.1594 - accuracy: 0.9256 - val_loss: 0.3318 - val_accuracy: 0.8813\n",
      "Epoch 49/100\n",
      "1022/1022 [==============================] - 2s 1ms/step - loss: 0.1724 - accuracy: 0.9207 - val_loss: 0.2844 - val_accuracy: 0.9132\n",
      "Epoch 50/100\n",
      "1022/1022 [==============================] - 2s 1ms/step - loss: 0.1864 - accuracy: 0.9237 - val_loss: 0.2753 - val_accuracy: 0.9087\n",
      "Epoch 51/100\n",
      "1022/1022 [==============================] - 2s 1ms/step - loss: 0.1877 - accuracy: 0.9070 - val_loss: 0.3968 - val_accuracy: 0.8356\n",
      "Epoch 52/100\n",
      "1022/1022 [==============================] - 2s 2ms/step - loss: 0.1790 - accuracy: 0.9227 - val_loss: 0.3428 - val_accuracy: 0.8858\n",
      "Epoch 53/100\n",
      "1022/1022 [==============================] - 2s 2ms/step - loss: 0.1809 - accuracy: 0.9227 - val_loss: 0.3132 - val_accuracy: 0.8904\n",
      "Epoch 54/100\n",
      "1022/1022 [==============================] - 2s 2ms/step - loss: 0.1559 - accuracy: 0.9266 - val_loss: 0.3537 - val_accuracy: 0.8767\n",
      "Epoch 55/100\n",
      "1022/1022 [==============================] - 1s 1ms/step - loss: 0.1846 - accuracy: 0.9178 - val_loss: 0.3876 - val_accuracy: 0.8904\n",
      "Epoch 56/100\n",
      "1022/1022 [==============================] - 1s 1ms/step - loss: 0.1664 - accuracy: 0.9256 - val_loss: 0.3084 - val_accuracy: 0.8995\n"
     ]
    },
    {
     "name": "stdout",
     "output_type": "stream",
     "text": [
      "Epoch 57/100\n",
      "1022/1022 [==============================] - 2s 2ms/step - loss: 0.1527 - accuracy: 0.9266 - val_loss: 0.3989 - val_accuracy: 0.8858\n",
      "Epoch 58/100\n",
      "1022/1022 [==============================] - 2s 1ms/step - loss: 0.1514 - accuracy: 0.9354 - val_loss: 0.3733 - val_accuracy: 0.8858\n",
      "Epoch 59/100\n",
      "1022/1022 [==============================] - 1s 1ms/step - loss: 0.1595 - accuracy: 0.9276 - val_loss: 0.3277 - val_accuracy: 0.8995\n",
      "Epoch 60/100\n",
      "1022/1022 [==============================] - 1s 1ms/step - loss: 0.1912 - accuracy: 0.9198 - val_loss: 0.3102 - val_accuracy: 0.8813\n",
      "Epoch 61/100\n",
      "1022/1022 [==============================] - 1s 1ms/step - loss: 0.1772 - accuracy: 0.9286 - val_loss: 0.2866 - val_accuracy: 0.8858\n",
      "Epoch 62/100\n",
      "1022/1022 [==============================] - 1s 1ms/step - loss: 0.1709 - accuracy: 0.9149 - val_loss: 0.3030 - val_accuracy: 0.9041\n",
      "Epoch 63/100\n",
      "1022/1022 [==============================] - 1s 1ms/step - loss: 0.1580 - accuracy: 0.9247 - val_loss: 0.3206 - val_accuracy: 0.8995\n",
      "Epoch 64/100\n",
      "1022/1022 [==============================] - 1s 1ms/step - loss: 0.1530 - accuracy: 0.9276 - val_loss: 0.3658 - val_accuracy: 0.8950\n",
      "Epoch 65/100\n",
      "1022/1022 [==============================] - 1s 1ms/step - loss: 0.1436 - accuracy: 0.9325 - val_loss: 0.3590 - val_accuracy: 0.8995\n",
      "Epoch 66/100\n",
      "1022/1022 [==============================] - 1s 1ms/step - loss: 0.1536 - accuracy: 0.9207 - val_loss: 0.2970 - val_accuracy: 0.9087\n",
      "Epoch 67/100\n",
      "1022/1022 [==============================] - 1s 1ms/step - loss: 0.1498 - accuracy: 0.9344 - val_loss: 0.4515 - val_accuracy: 0.8767\n",
      "Epoch 68/100\n",
      "1022/1022 [==============================] - 1s 1ms/step - loss: 0.1626 - accuracy: 0.9295 - val_loss: 0.3069 - val_accuracy: 0.8950\n",
      "Epoch 69/100\n",
      "1022/1022 [==============================] - 1s 1ms/step - loss: 0.1566 - accuracy: 0.9335 - val_loss: 0.3426 - val_accuracy: 0.9041\n",
      "Epoch 70/100\n",
      "1022/1022 [==============================] - 1s 1ms/step - loss: 0.1337 - accuracy: 0.9384 - val_loss: 0.5075 - val_accuracy: 0.8721\n",
      "Epoch 71/100\n",
      "1022/1022 [==============================] - 1s 1ms/step - loss: 0.1573 - accuracy: 0.9295 - val_loss: 0.2918 - val_accuracy: 0.8995\n",
      "Epoch 72/100\n",
      "1022/1022 [==============================] - 1s 1ms/step - loss: 0.1379 - accuracy: 0.9403 - val_loss: 0.3713 - val_accuracy: 0.8904\n",
      "Epoch 73/100\n",
      "1022/1022 [==============================] - 1s 1ms/step - loss: 0.1410 - accuracy: 0.9364 - val_loss: 0.4110 - val_accuracy: 0.8995\n",
      "Epoch 74/100\n",
      "1022/1022 [==============================] - 1s 1ms/step - loss: 0.1385 - accuracy: 0.9452 - val_loss: 0.3621 - val_accuracy: 0.8995\n",
      "Epoch 75/100\n",
      "1022/1022 [==============================] - 1s 1ms/step - loss: 0.1320 - accuracy: 0.9364 - val_loss: 0.5163 - val_accuracy: 0.8813\n",
      "Epoch 76/100\n",
      "1022/1022 [==============================] - 1s 1ms/step - loss: 0.1311 - accuracy: 0.9472 - val_loss: 0.3883 - val_accuracy: 0.8813\n",
      "Epoch 77/100\n",
      "1022/1022 [==============================] - 1s 1ms/step - loss: 0.1610 - accuracy: 0.9237 - val_loss: 0.4017 - val_accuracy: 0.8767\n",
      "Epoch 78/100\n",
      "1022/1022 [==============================] - 1s 1ms/step - loss: 0.1551 - accuracy: 0.9364 - val_loss: 0.3426 - val_accuracy: 0.8950\n",
      "Epoch 79/100\n",
      "1022/1022 [==============================] - 1s 1ms/step - loss: 0.1438 - accuracy: 0.9335 - val_loss: 0.3187 - val_accuracy: 0.8995\n",
      "Epoch 80/100\n",
      "1022/1022 [==============================] - 1s 1ms/step - loss: 0.1284 - accuracy: 0.9432 - val_loss: 0.3855 - val_accuracy: 0.8950\n",
      "Epoch 81/100\n",
      "1022/1022 [==============================] - 1s 1ms/step - loss: 0.1236 - accuracy: 0.9423 - val_loss: 0.4074 - val_accuracy: 0.8995\n",
      "Epoch 82/100\n",
      "1022/1022 [==============================] - 1s 1ms/step - loss: 0.1708 - accuracy: 0.9198 - val_loss: 0.4193 - val_accuracy: 0.9087\n",
      "Epoch 83/100\n",
      "1022/1022 [==============================] - 2s 1ms/step - loss: 0.1378 - accuracy: 0.9413 - val_loss: 0.3681 - val_accuracy: 0.9087\n",
      "Epoch 84/100\n",
      "1022/1022 [==============================] - 1s 1ms/step - loss: 0.1744 - accuracy: 0.9237 - val_loss: 0.3628 - val_accuracy: 0.9041\n",
      "Epoch 85/100\n",
      "1022/1022 [==============================] - 1s 1ms/step - loss: 0.1583 - accuracy: 0.9295 - val_loss: 0.3577 - val_accuracy: 0.9041\n",
      "Epoch 86/100\n",
      "1022/1022 [==============================] - 2s 2ms/step - loss: 0.1576 - accuracy: 0.9286 - val_loss: 0.3729 - val_accuracy: 0.8858\n",
      "Epoch 87/100\n",
      "1022/1022 [==============================] - 1s 1ms/step - loss: 0.1588 - accuracy: 0.9335 - val_loss: 0.3734 - val_accuracy: 0.8995\n",
      "Epoch 88/100\n",
      "1022/1022 [==============================] - 1s 1ms/step - loss: 0.1256 - accuracy: 0.9442 - val_loss: 0.4246 - val_accuracy: 0.8904\n",
      "Epoch 89/100\n",
      "1022/1022 [==============================] - 2s 2ms/step - loss: 0.1162 - accuracy: 0.9501 - val_loss: 0.4302 - val_accuracy: 0.8995\n",
      "Epoch 90/100\n",
      "1022/1022 [==============================] - 1s 1ms/step - loss: 0.1110 - accuracy: 0.9472 - val_loss: 0.7426 - val_accuracy: 0.8676\n",
      "Epoch 91/100\n",
      "1022/1022 [==============================] - 1s 1ms/step - loss: 0.1549 - accuracy: 0.9286 - val_loss: 0.3764 - val_accuracy: 0.9041\n",
      "Epoch 92/100\n",
      "1022/1022 [==============================] - 1s 1ms/step - loss: 0.1434 - accuracy: 0.9432 - val_loss: 0.3978 - val_accuracy: 0.8950\n",
      "Epoch 93/100\n",
      "1022/1022 [==============================] - 1s 1ms/step - loss: 0.1148 - accuracy: 0.9501 - val_loss: 0.4305 - val_accuracy: 0.9041\n",
      "Epoch 94/100\n",
      "1022/1022 [==============================] - 1s 1ms/step - loss: 0.1105 - accuracy: 0.9501 - val_loss: 0.5167 - val_accuracy: 0.8721\n",
      "Epoch 95/100\n",
      "1022/1022 [==============================] - 1s 1ms/step - loss: 0.1044 - accuracy: 0.9550 - val_loss: 0.5361 - val_accuracy: 0.8950\n",
      "Epoch 96/100\n",
      "1022/1022 [==============================] - 1s 1ms/step - loss: 0.1207 - accuracy: 0.9491 - val_loss: 0.5209 - val_accuracy: 0.8995\n",
      "Epoch 97/100\n",
      "1022/1022 [==============================] - 1s 1ms/step - loss: 0.1097 - accuracy: 0.9501 - val_loss: 0.4711 - val_accuracy: 0.8858\n",
      "Epoch 98/100\n",
      "1022/1022 [==============================] - 1s 1ms/step - loss: 0.1099 - accuracy: 0.9560 - val_loss: 0.5139 - val_accuracy: 0.8950\n",
      "Epoch 99/100\n",
      "1022/1022 [==============================] - 1s 1ms/step - loss: 0.1123 - accuracy: 0.9491 - val_loss: 0.4630 - val_accuracy: 0.8676\n",
      "Epoch 100/100\n",
      "1022/1022 [==============================] - 1s 1ms/step - loss: 0.1142 - accuracy: 0.9569 - val_loss: 0.4247 - val_accuracy: 0.8813\n"
     ]
    }
   ],
   "source": [
    "model_2 = Sequential([\n",
    "    Dense(1000, activation=\"relu\", input_shape=(10,)),\n",
    "    Dense(1000, activation=\"relu\"),\n",
    "    Dense(1000, activation=\"relu\"),\n",
    "    Dense(1000, activation=\"relu\"),\n",
    "    Dense(1, activation=\"sigmoid\"),\n",
    "])\n",
    "\n",
    "model_2.compile(\n",
    "    optimizer=\"adam\",\n",
    "    loss=\"binary_crossentropy\",\n",
    "    metrics=[\"accuracy\"],\n",
    ")\n",
    "\n",
    "hist_2 = model_2.fit(\n",
    "    X_train,\n",
    "    Y_train,\n",
    "    batch_size=32,\n",
    "    epochs=100,\n",
    "    validation_data=(X_val, Y_val),\n",
    ")"
   ]
  },
  {
   "cell_type": "code",
   "execution_count": 29,
   "metadata": {},
   "outputs": [
    {
     "data": {
      "image/png": "[encoded data removed]",
      "text/plain": [
       "<Figure size 432x288 with 1 Axes>"
      ]
     },
     "metadata": {
      "needs_background": "light"
     },
     "output_type": "display_data"
    }
   ],
   "source": [
    "plt.plot(hist_2.history[\"loss\"])\n",
    "plt.plot(hist_2.history[\"val_loss\"])\n",
    "plt.title(\"Model loss\")\n",
    "plt.ylabel(\"Loss\")\n",
    "plt.xlabel(\"Epoch\")\n",
    "plt.legend([\"Train\", \"Val\"], loc=\"upper right\")\n",
    "plt.show()"
   ]
  },
  {
   "cell_type": "code",
   "execution_count": 30,
   "metadata": {},
   "outputs": [
    {
     "data": {
      "image/png": "[encoded data removed]",
      "text/plain": [
       "<Figure size 432x288 with 1 Axes>"
      ]
     },
     "metadata": {
      "needs_background": "light"
     },
     "output_type": "display_data"
    }
   ],
   "source": [
    "plt.plot(hist_2.history[\"accuracy\"])\n",
    "plt.plot(hist_2.history[\"val_accuracy\"])\n",
    "plt.title(\"Model accuracy\")\n",
    "plt.ylabel(\"Accuracy\")\n",
    "plt.xlabel(\"Epoch\")\n",
    "plt.legend([\"Train\", \"Val\"], loc=\"lower right\")\n",
    "plt.show()"
   ]
  },
  {
   "cell_type": "code",
   "execution_count": 31,
   "metadata": {},
   "outputs": [],
   "source": [
    "from keras.layers import Dropout\n",
    "from keras import regularizers"
   ]
  },
  {
   "cell_type": "code",
   "execution_count": 32,
   "metadata": {},
   "outputs": [],
   "source": [
    "model_3 = Sequential([\n",
    "    Dense(1000, activation=\"relu\", kernel_regularizer=regularizers.l2(0.01), input_shape=(10,)),\n",
    "    Dropout(0.3),\n",
    "    Dense(1000, activation=\"relu\", kernel_regularizer=regularizers.l2(0.01)),\n",
    "    Dropout(0.3),\n",
    "    Dense(1000, activation=\"relu\", kernel_regularizer=regularizers.l2(0.01)),\n",
    "    Dropout(0.3),\n",
    "    Dense(1000, activation=\"relu\", kernel_regularizer=regularizers.l2(0.01)),\n",
    "    Dropout(0.3),\n",
    "    Dense(1, activation=\"sigmoid\", kernel_regularizer=regularizers.l2(0.01)),\n",
    "])"
   ]
  },
  {
   "cell_type": "code",
   "execution_count": 33,
   "metadata": {},
   "outputs": [
    {
     "name": "stdout",
     "output_type": "stream",
     "text": [
      "Train on 1022 samples, validate on 219 samples\n",
      "Epoch 1/100\n",
      "1022/1022 [==============================] - 4s 4ms/step - loss: 14.3429 - accuracy: 0.6703 - val_loss: 3.9504 - val_accuracy: 0.6027\n",
      "Epoch 2/100\n",
      "1022/1022 [==============================] - 2s 2ms/step - loss: 1.7115 - accuracy: 0.8082 - val_loss: 0.7103 - val_accuracy: 0.8493\n",
      "Epoch 3/100\n",
      "1022/1022 [==============================] - 2s 2ms/step - loss: 0.6227 - accuracy: 0.8307 - val_loss: 0.5070 - val_accuracy: 0.8676\n",
      "Epoch 4/100\n",
      "1022/1022 [==============================] - 2s 2ms/step - loss: 0.5270 - accuracy: 0.8630 - val_loss: 0.4597 - val_accuracy: 0.8813\n",
      "Epoch 5/100\n",
      "1022/1022 [==============================] - 2s 2ms/step - loss: 0.5138 - accuracy: 0.8591 - val_loss: 0.4523 - val_accuracy: 0.8995\n",
      "Epoch 6/100\n",
      "1022/1022 [==============================] - 2s 2ms/step - loss: 0.5133 - accuracy: 0.8474 - val_loss: 0.4554 - val_accuracy: 0.8858\n",
      "Epoch 7/100\n",
      "1022/1022 [==============================] - 2s 2ms/step - loss: 0.4761 - accuracy: 0.8669 - val_loss: 0.4350 - val_accuracy: 0.8995\n",
      "Epoch 8/100\n",
      "1022/1022 [==============================] - 2s 2ms/step - loss: 0.5049 - accuracy: 0.8562 - val_loss: 0.5051 - val_accuracy: 0.8630\n",
      "Epoch 9/100\n",
      "1022/1022 [==============================] - 2s 2ms/step - loss: 0.4854 - accuracy: 0.8699 - val_loss: 0.4309 - val_accuracy: 0.8904\n",
      "Epoch 10/100\n",
      "1022/1022 [==============================] - 2s 2ms/step - loss: 0.5089 - accuracy: 0.8581 - val_loss: 0.4337 - val_accuracy: 0.8950\n",
      "Epoch 11/100\n",
      "1022/1022 [==============================] - 2s 2ms/step - loss: 0.4639 - accuracy: 0.8865 - val_loss: 0.4481 - val_accuracy: 0.8858\n",
      "Epoch 12/100\n",
      "1022/1022 [==============================] - 2s 2ms/step - loss: 0.4583 - accuracy: 0.8826 - val_loss: 0.4207 - val_accuracy: 0.8950\n",
      "Epoch 13/100\n",
      "1022/1022 [==============================] - 2s 2ms/step - loss: 0.4838 - accuracy: 0.8640 - val_loss: 0.4265 - val_accuracy: 0.9041\n",
      "Epoch 14/100\n",
      "1022/1022 [==============================] - 2s 2ms/step - loss: 0.4543 - accuracy: 0.8885 - val_loss: 0.4206 - val_accuracy: 0.8904\n",
      "Epoch 15/100\n",
      "1022/1022 [==============================] - 2s 2ms/step - loss: 0.4643 - accuracy: 0.8689 - val_loss: 0.4346 - val_accuracy: 0.8950\n",
      "Epoch 16/100\n",
      "1022/1022 [==============================] - 2s 2ms/step - loss: 0.4599 - accuracy: 0.8591 - val_loss: 0.4183 - val_accuracy: 0.8950\n",
      "Epoch 17/100\n",
      "1022/1022 [==============================] - 2s 2ms/step - loss: 0.4668 - accuracy: 0.8708 - val_loss: 0.4975 - val_accuracy: 0.8630\n",
      "Epoch 18/100\n",
      "1022/1022 [==============================] - 2s 2ms/step - loss: 0.4949 - accuracy: 0.8581 - val_loss: 0.5223 - val_accuracy: 0.8402\n",
      "Epoch 19/100\n",
      "1022/1022 [==============================] - 2s 2ms/step - loss: 0.4652 - accuracy: 0.8757 - val_loss: 0.4135 - val_accuracy: 0.9041\n",
      "Epoch 20/100\n",
      "1022/1022 [==============================] - 2s 2ms/step - loss: 0.4647 - accuracy: 0.8738 - val_loss: 0.4340 - val_accuracy: 0.8950\n",
      "Epoch 21/100\n",
      "1022/1022 [==============================] - 2s 2ms/step - loss: 0.4618 - accuracy: 0.8689 - val_loss: 0.4112 - val_accuracy: 0.9041\n",
      "Epoch 22/100\n",
      "1022/1022 [==============================] - 2s 2ms/step - loss: 0.4774 - accuracy: 0.8630 - val_loss: 0.4129 - val_accuracy: 0.8995\n",
      "Epoch 23/100\n",
      "1022/1022 [==============================] - 2s 2ms/step - loss: 0.4518 - accuracy: 0.8728 - val_loss: 0.4114 - val_accuracy: 0.8995\n",
      "Epoch 24/100\n",
      "1022/1022 [==============================] - 2s 2ms/step - loss: 0.4738 - accuracy: 0.8669 - val_loss: 0.4125 - val_accuracy: 0.9041\n",
      "Epoch 25/100\n",
      "1022/1022 [==============================] - 2s 2ms/step - loss: 0.4588 - accuracy: 0.8640 - val_loss: 0.4098 - val_accuracy: 0.8995\n",
      "Epoch 26/100\n",
      "1022/1022 [==============================] - 2s 2ms/step - loss: 0.4588 - accuracy: 0.8679 - val_loss: 0.4146 - val_accuracy: 0.9041\n",
      "Epoch 27/100\n",
      "1022/1022 [==============================] - 2s 2ms/step - loss: 0.4555 - accuracy: 0.8659 - val_loss: 0.4161 - val_accuracy: 0.8995\n",
      "Epoch 28/100\n",
      "1022/1022 [==============================] - 2s 2ms/step - loss: 0.4435 - accuracy: 0.8748 - val_loss: 0.4106 - val_accuracy: 0.8995\n",
      "Epoch 29/100\n",
      "1022/1022 [==============================] - 2s 2ms/step - loss: 0.4430 - accuracy: 0.8767 - val_loss: 0.4139 - val_accuracy: 0.9132\n",
      "Epoch 30/100\n",
      "1022/1022 [==============================] - 2s 2ms/step - loss: 0.4384 - accuracy: 0.8738 - val_loss: 0.4093 - val_accuracy: 0.9041\n",
      "Epoch 31/100\n",
      "1022/1022 [==============================] - 2s 2ms/step - loss: 0.4453 - accuracy: 0.8875 - val_loss: 0.4093 - val_accuracy: 0.8995\n",
      "Epoch 32/100\n",
      "1022/1022 [==============================] - 2s 2ms/step - loss: 0.4481 - accuracy: 0.8767 - val_loss: 0.4322 - val_accuracy: 0.9041\n",
      "Epoch 33/100\n",
      "1022/1022 [==============================] - 2s 2ms/step - loss: 0.4408 - accuracy: 0.8787 - val_loss: 0.4199 - val_accuracy: 0.9178\n",
      "Epoch 34/100\n",
      "1022/1022 [==============================] - 2s 2ms/step - loss: 0.4679 - accuracy: 0.8669 - val_loss: 0.4243 - val_accuracy: 0.8858\n",
      "Epoch 35/100\n",
      "1022/1022 [==============================] - 2s 2ms/step - loss: 0.4499 - accuracy: 0.8787 - val_loss: 0.4131 - val_accuracy: 0.9132\n",
      "Epoch 36/100\n",
      "1022/1022 [==============================] - 2s 2ms/step - loss: 0.4449 - accuracy: 0.8738 - val_loss: 0.4103 - val_accuracy: 0.8995\n",
      "Epoch 37/100\n",
      "1022/1022 [==============================] - 2s 2ms/step - loss: 0.4945 - accuracy: 0.8552 - val_loss: 0.4634 - val_accuracy: 0.8721\n",
      "Epoch 38/100\n",
      "1022/1022 [==============================] - 2s 2ms/step - loss: 0.4788 - accuracy: 0.8571 - val_loss: 0.4132 - val_accuracy: 0.8995\n",
      "Epoch 39/100\n",
      "1022/1022 [==============================] - 2s 2ms/step - loss: 0.4584 - accuracy: 0.8914 - val_loss: 0.5783 - val_accuracy: 0.7717\n",
      "Epoch 40/100\n",
      "1022/1022 [==============================] - 2s 2ms/step - loss: 0.4727 - accuracy: 0.8659 - val_loss: 0.4118 - val_accuracy: 0.8995\n",
      "Epoch 41/100\n",
      "1022/1022 [==============================] - 2s 2ms/step - loss: 0.4520 - accuracy: 0.8836 - val_loss: 0.4432 - val_accuracy: 0.8904\n",
      "Epoch 42/100\n",
      "1022/1022 [==============================] - 2s 2ms/step - loss: 0.4477 - accuracy: 0.8699 - val_loss: 0.4177 - val_accuracy: 0.9132\n",
      "Epoch 43/100\n",
      "1022/1022 [==============================] - 2s 2ms/step - loss: 0.4379 - accuracy: 0.8787 - val_loss: 0.4091 - val_accuracy: 0.9041\n",
      "Epoch 44/100\n",
      "1022/1022 [==============================] - 2s 2ms/step - loss: 0.4390 - accuracy: 0.8767 - val_loss: 0.4439 - val_accuracy: 0.8858\n",
      "Epoch 45/100\n",
      "1022/1022 [==============================] - 2s 2ms/step - loss: 0.4452 - accuracy: 0.8728 - val_loss: 0.4067 - val_accuracy: 0.9041\n",
      "Epoch 46/100\n",
      "1022/1022 [==============================] - 2s 2ms/step - loss: 0.4448 - accuracy: 0.8757 - val_loss: 0.4263 - val_accuracy: 0.8858\n",
      "Epoch 47/100\n",
      "1022/1022 [==============================] - 2s 2ms/step - loss: 0.4381 - accuracy: 0.8679 - val_loss: 0.4080 - val_accuracy: 0.9041\n",
      "Epoch 48/100\n",
      "1022/1022 [==============================] - 2s 2ms/step - loss: 0.4344 - accuracy: 0.8777 - val_loss: 0.4076 - val_accuracy: 0.9041\n",
      "Epoch 49/100\n",
      "1022/1022 [==============================] - 2s 2ms/step - loss: 0.4638 - accuracy: 0.8689 - val_loss: 0.4296 - val_accuracy: 0.8858\n",
      "Epoch 50/100\n",
      "1022/1022 [==============================] - 2s 2ms/step - loss: 0.4687 - accuracy: 0.8689 - val_loss: 0.4198 - val_accuracy: 0.8950\n",
      "Epoch 51/100\n",
      "1022/1022 [==============================] - 2s 2ms/step - loss: 0.4423 - accuracy: 0.8708 - val_loss: 0.4673 - val_accuracy: 0.8767\n",
      "Epoch 52/100\n",
      "1022/1022 [==============================] - 2s 2ms/step - loss: 0.4739 - accuracy: 0.8640 - val_loss: 0.4091 - val_accuracy: 0.8995\n",
      "Epoch 53/100\n",
      "1022/1022 [==============================] - 2s 2ms/step - loss: 0.4497 - accuracy: 0.8708 - val_loss: 0.4122 - val_accuracy: 0.8995\n",
      "Epoch 54/100\n",
      "1022/1022 [==============================] - 2s 2ms/step - loss: 0.4347 - accuracy: 0.8777 - val_loss: 0.4188 - val_accuracy: 0.8950\n",
      "Epoch 55/100\n",
      "1022/1022 [==============================] - 2s 2ms/step - loss: 0.4397 - accuracy: 0.8767 - val_loss: 0.4054 - val_accuracy: 0.9041\n",
      "Epoch 56/100\n",
      "1022/1022 [==============================] - 2s 2ms/step - loss: 0.4387 - accuracy: 0.8767 - val_loss: 0.4198 - val_accuracy: 0.8950\n"
     ]
    },
    {
     "name": "stdout",
     "output_type": "stream",
     "text": [
      "Epoch 57/100\n",
      "1022/1022 [==============================] - 2s 2ms/step - loss: 0.4473 - accuracy: 0.8689 - val_loss: 0.4301 - val_accuracy: 0.8904\n",
      "Epoch 58/100\n",
      "1022/1022 [==============================] - 2s 2ms/step - loss: 0.4407 - accuracy: 0.8826 - val_loss: 0.4167 - val_accuracy: 0.8950\n",
      "Epoch 59/100\n",
      "1022/1022 [==============================] - 2s 2ms/step - loss: 0.4506 - accuracy: 0.8767 - val_loss: 0.4140 - val_accuracy: 0.9178\n",
      "Epoch 60/100\n",
      "1022/1022 [==============================] - 2s 2ms/step - loss: 0.4471 - accuracy: 0.8806 - val_loss: 0.4158 - val_accuracy: 0.8950\n",
      "Epoch 61/100\n",
      "1022/1022 [==============================] - 2s 2ms/step - loss: 0.4534 - accuracy: 0.8767 - val_loss: 0.4074 - val_accuracy: 0.9041\n",
      "Epoch 62/100\n",
      "1022/1022 [==============================] - 2s 2ms/step - loss: 0.4435 - accuracy: 0.8738 - val_loss: 0.4171 - val_accuracy: 0.9132\n",
      "Epoch 63/100\n",
      "1022/1022 [==============================] - 2s 2ms/step - loss: 0.4740 - accuracy: 0.8591 - val_loss: 0.4177 - val_accuracy: 0.8950\n",
      "Epoch 64/100\n",
      "1022/1022 [==============================] - 2s 2ms/step - loss: 0.4548 - accuracy: 0.8611 - val_loss: 0.4921 - val_accuracy: 0.8402\n",
      "Epoch 65/100\n",
      "1022/1022 [==============================] - 2s 2ms/step - loss: 0.4454 - accuracy: 0.8767 - val_loss: 0.4075 - val_accuracy: 0.8995\n",
      "Epoch 66/100\n",
      "1022/1022 [==============================] - 2s 2ms/step - loss: 0.4478 - accuracy: 0.8777 - val_loss: 0.4071 - val_accuracy: 0.9041\n",
      "Epoch 67/100\n",
      "1022/1022 [==============================] - 2s 2ms/step - loss: 0.4389 - accuracy: 0.8708 - val_loss: 0.4094 - val_accuracy: 0.9041\n",
      "Epoch 68/100\n",
      "1022/1022 [==============================] - 2s 2ms/step - loss: 0.4467 - accuracy: 0.8689 - val_loss: 0.4072 - val_accuracy: 0.9041\n",
      "Epoch 69/100\n",
      "1022/1022 [==============================] - 2s 2ms/step - loss: 0.4405 - accuracy: 0.8826 - val_loss: 0.4109 - val_accuracy: 0.9041\n",
      "Epoch 70/100\n",
      "1022/1022 [==============================] - 2s 2ms/step - loss: 0.4437 - accuracy: 0.8806 - val_loss: 0.4307 - val_accuracy: 0.9087\n",
      "Epoch 71/100\n",
      "1022/1022 [==============================] - 2s 2ms/step - loss: 0.4484 - accuracy: 0.8738 - val_loss: 0.4232 - val_accuracy: 0.8950\n",
      "Epoch 72/100\n",
      "1022/1022 [==============================] - 2s 2ms/step - loss: 0.4508 - accuracy: 0.8699 - val_loss: 0.4295 - val_accuracy: 0.9087\n",
      "Epoch 73/100\n",
      "1022/1022 [==============================] - 2s 2ms/step - loss: 0.4318 - accuracy: 0.8865 - val_loss: 0.4059 - val_accuracy: 0.9041\n",
      "Epoch 74/100\n",
      "1022/1022 [==============================] - 2s 2ms/step - loss: 0.4379 - accuracy: 0.8826 - val_loss: 0.4090 - val_accuracy: 0.9087\n",
      "Epoch 75/100\n",
      "1022/1022 [==============================] - 2s 2ms/step - loss: 0.4377 - accuracy: 0.8748 - val_loss: 0.4080 - val_accuracy: 0.9041\n",
      "Epoch 76/100\n",
      "1022/1022 [==============================] - 2s 2ms/step - loss: 0.4313 - accuracy: 0.8845 - val_loss: 0.4128 - val_accuracy: 0.9041\n",
      "Epoch 77/100\n",
      "1022/1022 [==============================] - 2s 2ms/step - loss: 0.4574 - accuracy: 0.8738 - val_loss: 0.4540 - val_accuracy: 0.8813\n",
      "Epoch 78/100\n",
      "1022/1022 [==============================] - 2s 2ms/step - loss: 0.4831 - accuracy: 0.8523 - val_loss: 0.4171 - val_accuracy: 0.9041\n",
      "Epoch 79/100\n",
      "1022/1022 [==============================] - 2s 2ms/step - loss: 0.4411 - accuracy: 0.8796 - val_loss: 0.4300 - val_accuracy: 0.9041\n",
      "Epoch 80/100\n",
      "1022/1022 [==============================] - 2s 2ms/step - loss: 0.4485 - accuracy: 0.8699 - val_loss: 0.4178 - val_accuracy: 0.8950\n",
      "Epoch 81/100\n",
      "1022/1022 [==============================] - 2s 2ms/step - loss: 0.4351 - accuracy: 0.8933 - val_loss: 0.4216 - val_accuracy: 0.9087\n",
      "Epoch 82/100\n",
      "1022/1022 [==============================] - 2s 2ms/step - loss: 0.4702 - accuracy: 0.8601 - val_loss: 0.4097 - val_accuracy: 0.9041\n",
      "Epoch 83/100\n",
      "1022/1022 [==============================] - 2s 2ms/step - loss: 0.4394 - accuracy: 0.8885 - val_loss: 0.4072 - val_accuracy: 0.9041\n",
      "Epoch 84/100\n",
      "1022/1022 [==============================] - 2s 2ms/step - loss: 0.4427 - accuracy: 0.8875 - val_loss: 0.4258 - val_accuracy: 0.8904\n",
      "Epoch 85/100\n",
      "1022/1022 [==============================] - 2s 2ms/step - loss: 0.4296 - accuracy: 0.8796 - val_loss: 0.4231 - val_accuracy: 0.8950\n",
      "Epoch 86/100\n",
      "1022/1022 [==============================] - 2s 2ms/step - loss: 0.4373 - accuracy: 0.8806 - val_loss: 0.4043 - val_accuracy: 0.9041\n",
      "Epoch 87/100\n",
      "1022/1022 [==============================] - 2s 2ms/step - loss: 0.4294 - accuracy: 0.8855 - val_loss: 0.4095 - val_accuracy: 0.9041\n",
      "Epoch 88/100\n",
      "1022/1022 [==============================] - 2s 2ms/step - loss: 0.4498 - accuracy: 0.8699 - val_loss: 0.4070 - val_accuracy: 0.9087\n",
      "Epoch 89/100\n",
      "1022/1022 [==============================] - 2s 2ms/step - loss: 0.4329 - accuracy: 0.8816 - val_loss: 0.4093 - val_accuracy: 0.9087\n",
      "Epoch 90/100\n",
      "1022/1022 [==============================] - 2s 2ms/step - loss: 0.4604 - accuracy: 0.8689 - val_loss: 0.4703 - val_accuracy: 0.8721\n",
      "Epoch 91/100\n",
      "1022/1022 [==============================] - 2s 2ms/step - loss: 0.4383 - accuracy: 0.8777 - val_loss: 0.4080 - val_accuracy: 0.9132\n",
      "Epoch 92/100\n",
      "1022/1022 [==============================] - 2s 2ms/step - loss: 0.4517 - accuracy: 0.8640 - val_loss: 0.4094 - val_accuracy: 0.9087\n",
      "Epoch 93/100\n",
      "1022/1022 [==============================] - 2s 2ms/step - loss: 0.4540 - accuracy: 0.8787 - val_loss: 0.4133 - val_accuracy: 0.9041\n",
      "Epoch 94/100\n",
      "1022/1022 [==============================] - 2s 2ms/step - loss: 0.4403 - accuracy: 0.8787 - val_loss: 0.4139 - val_accuracy: 0.9041\n",
      "Epoch 95/100\n",
      "1022/1022 [==============================] - 2s 2ms/step - loss: 0.4312 - accuracy: 0.8806 - val_loss: 0.4065 - val_accuracy: 0.9041\n",
      "Epoch 96/100\n",
      "1022/1022 [==============================] - 2s 2ms/step - loss: 0.4426 - accuracy: 0.8826 - val_loss: 0.4076 - val_accuracy: 0.9041\n",
      "Epoch 97/100\n",
      "1022/1022 [==============================] - 2s 2ms/step - loss: 0.4605 - accuracy: 0.8767 - val_loss: 0.4219 - val_accuracy: 0.8950\n",
      "Epoch 98/100\n",
      "1022/1022 [==============================] - 2s 2ms/step - loss: 0.4431 - accuracy: 0.8689 - val_loss: 0.4071 - val_accuracy: 0.9041\n",
      "Epoch 99/100\n",
      "1022/1022 [==============================] - 2s 2ms/step - loss: 0.4291 - accuracy: 0.8855 - val_loss: 0.4160 - val_accuracy: 0.8995\n",
      "Epoch 100/100\n",
      "1022/1022 [==============================] - 2s 2ms/step - loss: 0.4332 - accuracy: 0.8836 - val_loss: 0.4095 - val_accuracy: 0.9041\n"
     ]
    }
   ],
   "source": [
    "model_3.compile(\n",
    "    optimizer=\"adam\",\n",
    "    loss=\"binary_crossentropy\",\n",
    "    metrics=[\"accuracy\"],\n",
    ")\n",
    "\n",
    "hist_3 = model_3.fit(\n",
    "    X_train,\n",
    "    Y_train,\n",
    "    batch_size=32,\n",
    "    epochs=100,\n",
    "    validation_data=(X_val, Y_val),\n",
    ")"
   ]
  },
  {
   "cell_type": "code",
   "execution_count": 34,
   "metadata": {},
   "outputs": [
    {
     "data": {
      "image/png": "[encoded data removed]",
      "text/plain": [
       "<Figure size 432x288 with 1 Axes>"
      ]
     },
     "metadata": {
      "needs_background": "light"
     },
     "output_type": "display_data"
    }
   ],
   "source": [
    "plt.plot(hist_3.history[\"loss\"])\n",
    "plt.plot(hist_3.history[\"val_loss\"])\n",
    "plt.title(\"Model loss\")\n",
    "plt.ylabel(\"Loss\")\n",
    "plt.xlabel(\"Epoch\")\n",
    "plt.legend([\"Train\", \"Val\"], loc=\"upper right\")\n",
    "plt.ylim(top=1.2, bottom=0)\n",
    "plt.show()"
   ]
  },
  {
   "cell_type": "code",
   "execution_count": 35,
   "metadata": {},
   "outputs": [
    {
     "data": {
      "image/png": "[encoded data removed]",
      "text/plain": [
       "<Figure size 432x288 with 1 Axes>"
      ]
     },
     "metadata": {
      "needs_background": "light"
     },
     "output_type": "display_data"
    }
   ],
   "source": [
    "plt.plot(hist_3.history[\"accuracy\"])\n",
    "plt.plot(hist_3.history[\"val_accuracy\"])\n",
    "plt.title(\"Model accuracy\")\n",
    "plt.ylabel(\"Accuracy\")\n",
    "plt.xlabel(\"Epoch\")\n",
    "plt.legend([\"Train\", \"Val\"], loc=\"lower right\")\n",
    "plt.show()"
   ]
  },
  {
   "cell_type": "code",
   "execution_count": null,
   "metadata": {},
   "outputs": [],
   "source": []
  }
 ],
 "metadata": {
  "kernelspec": {
   "display_name": "Python 3",
   "language": "python",
   "name": "python3"
  },
  "language_info": {
   "codemirror_mode": {
    "name": "ipython",
    "version": 3
   },
   "file_extension": ".py",
   "mimetype": "text/x-python",
   "name": "python",
   "nbconvert_exporter": "python",
   "pygments_lexer": "ipython3",
   "version": "3.7.6"
  }
 },
 "nbformat": 4,
 "nbformat_minor": 4
}
